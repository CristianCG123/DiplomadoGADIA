{
  "nbformat": 4,
  "nbformat_minor": 0,
  "metadata": {
    "colab": {
      "provenance": [],
      "toc_visible": true,
      "authorship_tag": "ABX9TyP7K3u12f1fJHengQzznWBU",
      "include_colab_link": true
    },
    "kernelspec": {
      "name": "python3",
      "display_name": "Python 3"
    },
    "language_info": {
      "name": "python"
    }
  },
  "cells": [
    {
      "cell_type": "markdown",
      "metadata": {
        "id": "view-in-github",
        "colab_type": "text"
      },
      "source": [
        "<a href=\"https://colab.research.google.com/github/CristianCG123/DiplomadoGADIA/blob/main/clase1_intro.ipynb\" target=\"_parent\"><img src=\"https://colab.research.google.com/assets/colab-badge.svg\" alt=\"Open In Colab\"/></a>"
      ]
    },
    {
      "cell_type": "markdown",
      "source": [
        "**Intro a Python**\n",
        "\n",
        "Diplomado en gobierno y analitica de datos\n",
        "\n",
        "Fundación universitaria CAFAM\n",
        "\n",
        "Docente: Nicolas Gomez\n",
        "\n",
        "Estudiante: Cristian Giraldo\n",
        "\n",
        "\n",
        "\n",
        "---\n",
        "\n"
      ],
      "metadata": {
        "id": "vPt83275qKWm"
      }
    },
    {
      "cell_type": "markdown",
      "source": [
        "## 1. Comentarios en los codigos\n",
        "\n",
        "Para documentarios codigos en Python existen diferentec formas de crear comentarios, esto nos permite comentar nuestras secuencias de comandos para su analisis o posterior modificación"
      ],
      "metadata": {
        "id": "ogVVQ3U-rxau"
      }
    },
    {
      "cell_type": "code",
      "execution_count": null,
      "metadata": {
        "colab": {
          "base_uri": "https://localhost:8080/"
        },
        "id": "wRJ9AORuoxS-",
        "outputId": "67409c21-05bf-4f73-b1f1-cab8d8e2ffb9"
      },
      "outputs": [
        {
          "output_type": "stream",
          "name": "stdout",
          "text": [
            "Hello World\n"
          ]
        }
      ],
      "source": [
        "#este comentario es de una sola línea\n",
        "print(\"Hello World\")"
      ]
    },
    {
      "cell_type": "code",
      "source": [
        "'''\n",
        "este es un comentario de multiples líneas '''\n",
        "print(\"Hello World\")"
      ],
      "metadata": {
        "colab": {
          "base_uri": "https://localhost:8080/"
        },
        "id": "bztATMEGvlTd",
        "outputId": "da1f9619-0937-46f0-e277-bf84b082d896"
      },
      "execution_count": null,
      "outputs": [
        {
          "output_type": "stream",
          "name": "stdout",
          "text": [
            "Hello World\n"
          ]
        }
      ]
    },
    {
      "cell_type": "markdown",
      "source": [
        "## 2. Variables\n",
        "\n",
        "Una variable es un elemnto de un lenguaje de programación que tiene asignado un valor determinado"
      ],
      "metadata": {
        "id": "pHgxbleWxPNn"
      }
    },
    {
      "cell_type": "code",
      "source": [
        "\n",
        "\n",
        "## lo que dijo el profe\n",
        "var=\"Hello World\"\n",
        "print(var)"
      ],
      "metadata": {
        "colab": {
          "base_uri": "https://localhost:8080/"
        },
        "id": "OHIjbcRDxHe0",
        "outputId": "212e015b-3c0d-4fcf-bd3f-2026f5673e8f"
      },
      "execution_count": null,
      "outputs": [
        {
          "output_type": "stream",
          "name": "stdout",
          "text": [
            "Hello World\n"
          ]
        }
      ]
    },
    {
      "cell_type": "code",
      "source": [
        "##LAs variables pueden cambiar durante o a lo largo del comando escrito en Python\n",
        "var=\"Goobay Wolrd\"\n",
        "print(var)"
      ],
      "metadata": {
        "colab": {
          "base_uri": "https://localhost:8080/"
        },
        "id": "AO86fXNsxrPD",
        "outputId": "f1ef240a-c805-44bb-8068-a9e4a8035a6c"
      },
      "execution_count": null,
      "outputs": [
        {
          "output_type": "stream",
          "name": "stdout",
          "text": [
            "Goobay Wolrd\n"
          ]
        }
      ]
    },
    {
      "cell_type": "code",
      "source": [
        "## las variablesson sensibles a las mayusculas y minusculas"
      ],
      "metadata": {
        "id": "FiUPe5NtyG_R"
      },
      "execution_count": null,
      "outputs": []
    },
    {
      "cell_type": "markdown",
      "source": [
        "## 3. Tipos de datos\n",
        "\n"
      ],
      "metadata": {
        "id": "Gv0NpLoE4sru"
      }
    },
    {
      "cell_type": "code",
      "source": [
        "# tipos de datos  números\n",
        "entero=42\n",
        "#En  la mayor parte delenguas de programacionlos enterosson representados con \"int\"\n"
      ],
      "metadata": {
        "id": "Vjt9vh5A5eyY"
      },
      "execution_count": null,
      "outputs": []
    },
    {
      "cell_type": "code",
      "source": [
        "#Tipos datos Flotantes"
      ],
      "metadata": {
        "id": "ZxV1QsRy53Vs"
      },
      "execution_count": null,
      "outputs": []
    },
    {
      "cell_type": "code",
      "source": [
        "flotante=3.14151"
      ],
      "metadata": {
        "id": "QW1x3xEQ56r1"
      },
      "execution_count": null,
      "outputs": []
    },
    {
      "cell_type": "code",
      "source": [
        "#Conversion de los tipos de datos\n",
        "#convertir un flotante  a un número entero\n",
        "entero=int(3.14)\n",
        "print(entero)"
      ],
      "metadata": {
        "colab": {
          "base_uri": "https://localhost:8080/"
        },
        "id": "A4JjE2tr6BX3",
        "outputId": "548fdd5b-8393-470f-917c-dea10bc1e174"
      },
      "execution_count": null,
      "outputs": [
        {
          "output_type": "stream",
          "name": "stdout",
          "text": [
            "3\n"
          ]
        }
      ]
    },
    {
      "cell_type": "code",
      "source": [
        "#convertir entero a flotante\n",
        "flotante=float(5)\n",
        "print(flotante)"
      ],
      "metadata": {
        "colab": {
          "base_uri": "https://localhost:8080/"
        },
        "id": "kR4O_J-i7CTx",
        "outputId": "7e8c7bb0-952c-404c-9898-9944db1d97b8"
      },
      "execution_count": null,
      "outputs": [
        {
          "output_type": "stream",
          "name": "stdout",
          "text": [
            "5.0\n"
          ]
        }
      ]
    },
    {
      "cell_type": "code",
      "source": [],
      "metadata": {
        "id": "IF6GduKI7UGI"
      },
      "execution_count": null,
      "outputs": []
    },
    {
      "cell_type": "markdown",
      "source": [
        "## 4. operadores aritmeticos\n",
        "\n",
        "los operadores matematicos se utilizan para relaizar oepracioens comunes como la adccion, sustraccion, multiplicación etc.\n"
      ],
      "metadata": {
        "id": "bZ4Aiira7nLS"
      }
    },
    {
      "cell_type": "code",
      "source": [
        "#suma:\n",
        "A=10\n",
        "B=5\n",
        "print(A+B)"
      ],
      "metadata": {
        "colab": {
          "base_uri": "https://localhost:8080/"
        },
        "id": "yNQN8HiG7_Xz",
        "outputId": "63be1bee-ef41-4fd8-8784-f93f6d128642"
      },
      "execution_count": null,
      "outputs": [
        {
          "output_type": "stream",
          "name": "stdout",
          "text": [
            "15\n"
          ]
        }
      ]
    },
    {
      "cell_type": "code",
      "source": [
        "#resta\n",
        "C=A-B\n",
        "print(C)\n"
      ],
      "metadata": {
        "colab": {
          "base_uri": "https://localhost:8080/"
        },
        "id": "HJcDGpru8KuZ",
        "outputId": "4b15d769-e8be-4379-a243-3986990bb65b"
      },
      "execution_count": null,
      "outputs": [
        {
          "output_type": "stream",
          "name": "stdout",
          "text": [
            "5\n"
          ]
        }
      ]
    },
    {
      "cell_type": "code",
      "source": [
        "#multiplicación\n",
        "D=A*B\n",
        "print(D)"
      ],
      "metadata": {
        "colab": {
          "base_uri": "https://localhost:8080/"
        },
        "id": "OxRQ3UpG8iGd",
        "outputId": "a6e2e144-baf9-41fd-b43b-ff7fc2b3abc4"
      },
      "execution_count": null,
      "outputs": [
        {
          "output_type": "stream",
          "name": "stdout",
          "text": [
            "50\n"
          ]
        }
      ]
    },
    {
      "cell_type": "code",
      "source": [
        "#divición\n",
        "E=A/B\n",
        "print(E)"
      ],
      "metadata": {
        "colab": {
          "base_uri": "https://localhost:8080/"
        },
        "id": "4YfOUheJ8up5",
        "outputId": "c6671332-f19d-413c-83f8-3d521e7131d8"
      },
      "execution_count": null,
      "outputs": [
        {
          "output_type": "stream",
          "name": "stdout",
          "text": [
            "2.0\n"
          ]
        }
      ]
    },
    {
      "cell_type": "code",
      "source": [
        "#divicionentrea\n",
        "print(A//B)"
      ],
      "metadata": {
        "colab": {
          "base_uri": "https://localhost:8080/"
        },
        "id": "iLN8MhelA0Jf",
        "outputId": "843a54b1-1627-4608-b169-0f69070a7bda"
      },
      "execution_count": null,
      "outputs": [
        {
          "output_type": "stream",
          "name": "stdout",
          "text": [
            "2\n"
          ]
        }
      ]
    },
    {
      "cell_type": "code",
      "source": [
        "#modulo residuo de una operación\n",
        "print(A%B)"
      ],
      "metadata": {
        "colab": {
          "base_uri": "https://localhost:8080/"
        },
        "id": "29-ZUg2WBFdN",
        "outputId": "550befa1-b9d9-46e1-bc86-79fec849c261"
      },
      "execution_count": null,
      "outputs": [
        {
          "output_type": "stream",
          "name": "stdout",
          "text": [
            "0\n"
          ]
        }
      ]
    },
    {
      "cell_type": "code",
      "source": [
        "#exponenciacion\n",
        "print(A**B)"
      ],
      "metadata": {
        "colab": {
          "base_uri": "https://localhost:8080/"
        },
        "id": "KhEB-XpvBWN5",
        "outputId": "1e8e3107-ea30-40ab-a51a-04013f730d9f"
      },
      "execution_count": null,
      "outputs": [
        {
          "output_type": "stream",
          "name": "stdout",
          "text": [
            "100000\n"
          ]
        }
      ]
    },
    {
      "cell_type": "code",
      "source": [
        "#Asignacion compuesta\n",
        "A+=B\n",
        "print(A)"
      ],
      "metadata": {
        "colab": {
          "base_uri": "https://localhost:8080/"
        },
        "id": "Xs7x3BlZBoc4",
        "outputId": "ab19ffd6-1fbf-42ad-ceb6-8f9a695721f3"
      },
      "execution_count": null,
      "outputs": [
        {
          "output_type": "stream",
          "name": "stdout",
          "text": [
            "15\n"
          ]
        }
      ]
    },
    {
      "cell_type": "code",
      "source": [
        "#redondeo\n",
        "var4=3.1410\n",
        "print(round(var4,2))"
      ],
      "metadata": {
        "colab": {
          "base_uri": "https://localhost:8080/"
        },
        "id": "0MdCwHrxB8AH",
        "outputId": "be0b0a7c-93e6-42cc-d4f3-912d60b9949e"
      },
      "execution_count": null,
      "outputs": [
        {
          "output_type": "stream",
          "name": "stdout",
          "text": [
            "3.14\n"
          ]
        }
      ]
    },
    {
      "cell_type": "code",
      "source": [
        "#el codigo llega hasta acá"
      ],
      "metadata": {
        "id": "O2wU-U7cDeSj"
      },
      "execution_count": null,
      "outputs": []
    },
    {
      "cell_type": "code",
      "source": [],
      "metadata": {
        "id": "XpDbDHE4HDuU"
      },
      "execution_count": null,
      "outputs": []
    }
  ]
}